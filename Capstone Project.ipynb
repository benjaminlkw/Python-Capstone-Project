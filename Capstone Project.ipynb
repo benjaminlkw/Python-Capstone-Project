{
 "cells": [
  {
   "cell_type": "markdown",
   "id": "e982978a-433c-463b-91f3-9dcb43ec55f1",
   "metadata": {},
   "source": [
    "### THIS NOTEBOOK WILL BE MAINLY USED FOR PYTHON CAPSTONE PROJECT ###"
   ]
  },
  {
   "cell_type": "code",
   "execution_count": 1,
   "id": "2b6820f6-091f-420e-bc30-fe49ccd99c53",
   "metadata": {},
   "outputs": [
    {
     "name": "stdout",
     "output_type": "stream",
     "text": [
      "Hello Capstone Project Course!\n"
     ]
    }
   ],
   "source": [
    "import pandas as pd\n",
    "import numpy as np\n",
    "print(\"Hello Capstone Project Course!\")"
   ]
  },
  {
   "cell_type": "code",
   "execution_count": null,
   "id": "66ddb286-28b7-4d0f-9a73-fd116df37ba7",
   "metadata": {},
   "outputs": [],
   "source": []
  }
 ],
 "metadata": {
  "kernelspec": {
   "display_name": "Python 3 (ipykernel)",
   "language": "python",
   "name": "python3"
  },
  "language_info": {
   "codemirror_mode": {
    "name": "ipython",
    "version": 3
   },
   "file_extension": ".py",
   "mimetype": "text/x-python",
   "name": "python",
   "nbconvert_exporter": "python",
   "pygments_lexer": "ipython3",
   "version": "3.9.6"
  }
 },
 "nbformat": 4,
 "nbformat_minor": 5
}
